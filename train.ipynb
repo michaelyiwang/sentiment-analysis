{
 "cells": [
  {
   "cell_type": "code",
   "execution_count": 1,
   "id": "b740fe7b",
   "metadata": {
    "_cell_guid": "b1076dfc-b9ad-4769-8c92-a6c4dae69d19",
    "_uuid": "8f2839f25d086af736a60e9eeb907d3b93b6e0e5",
    "execution": {
     "iopub.execute_input": "2025-07-22T16:34:04.074045Z",
     "iopub.status.busy": "2025-07-22T16:34:04.073852Z",
     "iopub.status.idle": "2025-07-22T16:34:19.689776Z",
     "shell.execute_reply": "2025-07-22T16:34:19.689176Z"
    },
    "papermill": {
     "duration": 15.620597,
     "end_time": "2025-07-22T16:34:19.691136",
     "exception": false,
     "start_time": "2025-07-22T16:34:04.070539",
     "status": "completed"
    },
    "tags": []
   },
   "outputs": [
    {
     "name": "stderr",
     "output_type": "stream",
     "text": [
      "2025-07-22 16:34:05.869378: E external/local_xla/xla/stream_executor/cuda/cuda_fft.cc:477] Unable to register cuFFT factory: Attempting to register factory for plugin cuFFT when one has already been registered\n",
      "WARNING: All log messages before absl::InitializeLog() is called are written to STDERR\n",
      "E0000 00:00:1753202046.078749      19 cuda_dnn.cc:8310] Unable to register cuDNN factory: Attempting to register factory for plugin cuDNN when one has already been registered\n",
      "E0000 00:00:1753202046.140731      19 cuda_blas.cc:1418] Unable to register cuBLAS factory: Attempting to register factory for plugin cuBLAS when one has already been registered\n"
     ]
    }
   ],
   "source": [
    "from keras.datasets import imdb\n",
    "from keras.preprocessing import sequence\n",
    "import keras\n",
    "import tensorflow as tf\n",
    "import os\n",
    "import numpy as np"
   ]
  },
  {
   "cell_type": "code",
   "execution_count": 2,
   "id": "34ed7676",
   "metadata": {
    "execution": {
     "iopub.execute_input": "2025-07-22T16:34:19.697516Z",
     "iopub.status.busy": "2025-07-22T16:34:19.696712Z",
     "iopub.status.idle": "2025-07-22T16:34:22.885263Z",
     "shell.execute_reply": "2025-07-22T16:34:22.884680Z"
    },
    "papermill": {
     "duration": 3.192773,
     "end_time": "2025-07-22T16:34:22.886646",
     "exception": false,
     "start_time": "2025-07-22T16:34:19.693873",
     "status": "completed"
    },
    "tags": []
   },
   "outputs": [
    {
     "name": "stdout",
     "output_type": "stream",
     "text": [
      "Downloading data from https://storage.googleapis.com/tensorflow/tf-keras-datasets/imdb.npz\n",
      "\u001b[1m17464789/17464789\u001b[0m \u001b[32m━━━━━━━━━━━━━━━━━━━━\u001b[0m\u001b[37m\u001b[0m \u001b[1m0s\u001b[0m 0us/step\n"
     ]
    }
   ],
   "source": [
    "VOCAB_SIZE = 88584\n",
    "\n",
    "MAXLEN = 250\n",
    "BATCH_SIZE = 64\n",
    "\n",
    "(train_data, train_labels), (test_data, test_labels) = imdb.load_data(num_words = VOCAB_SIZE)"
   ]
  },
  {
   "cell_type": "code",
   "execution_count": 3,
   "id": "8b58a580",
   "metadata": {
    "execution": {
     "iopub.execute_input": "2025-07-22T16:34:22.893288Z",
     "iopub.status.busy": "2025-07-22T16:34:22.892851Z",
     "iopub.status.idle": "2025-07-22T16:34:22.896780Z",
     "shell.execute_reply": "2025-07-22T16:34:22.896132Z"
    },
    "papermill": {
     "duration": 0.008402,
     "end_time": "2025-07-22T16:34:22.897889",
     "exception": false,
     "start_time": "2025-07-22T16:34:22.889487",
     "status": "completed"
    },
    "tags": []
   },
   "outputs": [
    {
     "name": "stdout",
     "output_type": "stream",
     "text": [
      "218\n",
      "68\n"
     ]
    }
   ],
   "source": [
    "print(len(train_data[0]))\n",
    "print(len(test_data[0]))"
   ]
  },
  {
   "cell_type": "markdown",
   "id": "ff60d91c",
   "metadata": {
    "papermill": {
     "duration": 0.002276,
     "end_time": "2025-07-22T16:34:22.902592",
     "exception": false,
     "start_time": "2025-07-22T16:34:22.900316",
     "status": "completed"
    },
    "tags": []
   },
   "source": [
    "The data are different lengths. This is an issue. We cannot pass different length data into our neural network. Therefore, we must make each review the same length. To do this we will follow the procedure below:"
   ]
  },
  {
   "cell_type": "code",
   "execution_count": 4,
   "id": "3b558c23",
   "metadata": {
    "execution": {
     "iopub.execute_input": "2025-07-22T16:34:22.908462Z",
     "iopub.status.busy": "2025-07-22T16:34:22.907777Z",
     "iopub.status.idle": "2025-07-22T16:34:23.555323Z",
     "shell.execute_reply": "2025-07-22T16:34:23.554707Z"
    },
    "papermill": {
     "duration": 0.651841,
     "end_time": "2025-07-22T16:34:23.556766",
     "exception": false,
     "start_time": "2025-07-22T16:34:22.904925",
     "status": "completed"
    },
    "tags": []
   },
   "outputs": [],
   "source": [
    "train_data = sequence.pad_sequences(train_data, MAXLEN)\n",
    "test_data = sequence.pad_sequences(test_data, MAXLEN)"
   ]
  },
  {
   "cell_type": "code",
   "execution_count": 5,
   "id": "51dc3595",
   "metadata": {
    "execution": {
     "iopub.execute_input": "2025-07-22T16:34:23.563483Z",
     "iopub.status.busy": "2025-07-22T16:34:23.562747Z",
     "iopub.status.idle": "2025-07-22T16:34:23.620290Z",
     "shell.execute_reply": "2025-07-22T16:34:23.619487Z"
    },
    "papermill": {
     "duration": 0.061825,
     "end_time": "2025-07-22T16:34:23.621472",
     "exception": false,
     "start_time": "2025-07-22T16:34:23.559647",
     "status": "completed"
    },
    "tags": []
   },
   "outputs": [
    {
     "name": "stdout",
     "output_type": "stream",
     "text": [
      "250\n",
      "250\n"
     ]
    }
   ],
   "source": [
    "print(len(train_data[0]))\n",
    "from tensorflow.keras import regularizers\n",
    "print(len(test_data[0]))"
   ]
  },
  {
   "cell_type": "code",
   "execution_count": 6,
   "id": "3d474025",
   "metadata": {
    "execution": {
     "iopub.execute_input": "2025-07-22T16:34:23.627264Z",
     "iopub.status.busy": "2025-07-22T16:34:23.627078Z",
     "iopub.status.idle": "2025-07-22T16:34:26.178334Z",
     "shell.execute_reply": "2025-07-22T16:34:26.177672Z"
    },
    "papermill": {
     "duration": 2.555715,
     "end_time": "2025-07-22T16:34:26.179750",
     "exception": false,
     "start_time": "2025-07-22T16:34:23.624035",
     "status": "completed"
    },
    "tags": []
   },
   "outputs": [
    {
     "name": "stderr",
     "output_type": "stream",
     "text": [
      "I0000 00:00:1753202064.735615      19 gpu_device.cc:2022] Created device /job:localhost/replica:0/task:0/device:GPU:0 with 13942 MB memory:  -> device: 0, name: Tesla T4, pci bus id: 0000:00:04.0, compute capability: 7.5\n",
      "I0000 00:00:1753202064.736202      19 gpu_device.cc:2022] Created device /job:localhost/replica:0/task:0/device:GPU:1 with 13942 MB memory:  -> device: 1, name: Tesla T4, pci bus id: 0000:00:05.0, compute capability: 7.5\n"
     ]
    }
   ],
   "source": [
    "model = tf.keras.Sequential()\n",
    "model.add(tf.keras.layers.Input(shape=(MAXLEN,)))\n",
    "model.add(tf.keras.layers.Embedding(input_dim=VOCAB_SIZE, output_dim=32))\n",
    "model.add(tf.keras.layers.LSTM(32, dropout=0.2))\n",
    "model.add(tf.keras.layers.Dense(1, activation=\"sigmoid\"))"
   ]
  },
  {
   "cell_type": "code",
   "execution_count": 7,
   "id": "926c343e",
   "metadata": {
    "execution": {
     "iopub.execute_input": "2025-07-22T16:34:26.186784Z",
     "iopub.status.busy": "2025-07-22T16:34:26.186283Z",
     "iopub.status.idle": "2025-07-22T16:34:26.201687Z",
     "shell.execute_reply": "2025-07-22T16:34:26.201030Z"
    },
    "papermill": {
     "duration": 0.019796,
     "end_time": "2025-07-22T16:34:26.202787",
     "exception": false,
     "start_time": "2025-07-22T16:34:26.182991",
     "status": "completed"
    },
    "tags": []
   },
   "outputs": [
    {
     "data": {
      "text/html": [
       "<pre style=\"white-space:pre;overflow-x:auto;line-height:normal;font-family:Menlo,'DejaVu Sans Mono',consolas,'Courier New',monospace\"><span style=\"font-weight: bold\">Model: \"sequential\"</span>\n",
       "</pre>\n"
      ],
      "text/plain": [
       "\u001b[1mModel: \"sequential\"\u001b[0m\n"
      ]
     },
     "metadata": {},
     "output_type": "display_data"
    },
    {
     "data": {
      "text/html": [
       "<pre style=\"white-space:pre;overflow-x:auto;line-height:normal;font-family:Menlo,'DejaVu Sans Mono',consolas,'Courier New',monospace\">┏━━━━━━━━━━━━━━━━━━━━━━━━━━━━━━━━━┳━━━━━━━━━━━━━━━━━━━━━━━━┳━━━━━━━━━━━━━━━┓\n",
       "┃<span style=\"font-weight: bold\"> Layer (type)                    </span>┃<span style=\"font-weight: bold\"> Output Shape           </span>┃<span style=\"font-weight: bold\">       Param # </span>┃\n",
       "┡━━━━━━━━━━━━━━━━━━━━━━━━━━━━━━━━━╇━━━━━━━━━━━━━━━━━━━━━━━━╇━━━━━━━━━━━━━━━┩\n",
       "│ embedding (<span style=\"color: #0087ff; text-decoration-color: #0087ff\">Embedding</span>)           │ (<span style=\"color: #00d7ff; text-decoration-color: #00d7ff\">None</span>, <span style=\"color: #00af00; text-decoration-color: #00af00\">250</span>, <span style=\"color: #00af00; text-decoration-color: #00af00\">32</span>)        │     <span style=\"color: #00af00; text-decoration-color: #00af00\">2,834,688</span> │\n",
       "├─────────────────────────────────┼────────────────────────┼───────────────┤\n",
       "│ lstm (<span style=\"color: #0087ff; text-decoration-color: #0087ff\">LSTM</span>)                     │ (<span style=\"color: #00d7ff; text-decoration-color: #00d7ff\">None</span>, <span style=\"color: #00af00; text-decoration-color: #00af00\">32</span>)             │         <span style=\"color: #00af00; text-decoration-color: #00af00\">8,320</span> │\n",
       "├─────────────────────────────────┼────────────────────────┼───────────────┤\n",
       "│ dense (<span style=\"color: #0087ff; text-decoration-color: #0087ff\">Dense</span>)                   │ (<span style=\"color: #00d7ff; text-decoration-color: #00d7ff\">None</span>, <span style=\"color: #00af00; text-decoration-color: #00af00\">1</span>)              │            <span style=\"color: #00af00; text-decoration-color: #00af00\">33</span> │\n",
       "└─────────────────────────────────┴────────────────────────┴───────────────┘\n",
       "</pre>\n"
      ],
      "text/plain": [
       "┏━━━━━━━━━━━━━━━━━━━━━━━━━━━━━━━━━┳━━━━━━━━━━━━━━━━━━━━━━━━┳━━━━━━━━━━━━━━━┓\n",
       "┃\u001b[1m \u001b[0m\u001b[1mLayer (type)                   \u001b[0m\u001b[1m \u001b[0m┃\u001b[1m \u001b[0m\u001b[1mOutput Shape          \u001b[0m\u001b[1m \u001b[0m┃\u001b[1m \u001b[0m\u001b[1m      Param #\u001b[0m\u001b[1m \u001b[0m┃\n",
       "┡━━━━━━━━━━━━━━━━━━━━━━━━━━━━━━━━━╇━━━━━━━━━━━━━━━━━━━━━━━━╇━━━━━━━━━━━━━━━┩\n",
       "│ embedding (\u001b[38;5;33mEmbedding\u001b[0m)           │ (\u001b[38;5;45mNone\u001b[0m, \u001b[38;5;34m250\u001b[0m, \u001b[38;5;34m32\u001b[0m)        │     \u001b[38;5;34m2,834,688\u001b[0m │\n",
       "├─────────────────────────────────┼────────────────────────┼───────────────┤\n",
       "│ lstm (\u001b[38;5;33mLSTM\u001b[0m)                     │ (\u001b[38;5;45mNone\u001b[0m, \u001b[38;5;34m32\u001b[0m)             │         \u001b[38;5;34m8,320\u001b[0m │\n",
       "├─────────────────────────────────┼────────────────────────┼───────────────┤\n",
       "│ dense (\u001b[38;5;33mDense\u001b[0m)                   │ (\u001b[38;5;45mNone\u001b[0m, \u001b[38;5;34m1\u001b[0m)              │            \u001b[38;5;34m33\u001b[0m │\n",
       "└─────────────────────────────────┴────────────────────────┴───────────────┘\n"
      ]
     },
     "metadata": {},
     "output_type": "display_data"
    },
    {
     "data": {
      "text/html": [
       "<pre style=\"white-space:pre;overflow-x:auto;line-height:normal;font-family:Menlo,'DejaVu Sans Mono',consolas,'Courier New',monospace\"><span style=\"font-weight: bold\"> Total params: </span><span style=\"color: #00af00; text-decoration-color: #00af00\">2,843,041</span> (10.85 MB)\n",
       "</pre>\n"
      ],
      "text/plain": [
       "\u001b[1m Total params: \u001b[0m\u001b[38;5;34m2,843,041\u001b[0m (10.85 MB)\n"
      ]
     },
     "metadata": {},
     "output_type": "display_data"
    },
    {
     "data": {
      "text/html": [
       "<pre style=\"white-space:pre;overflow-x:auto;line-height:normal;font-family:Menlo,'DejaVu Sans Mono',consolas,'Courier New',monospace\"><span style=\"font-weight: bold\"> Trainable params: </span><span style=\"color: #00af00; text-decoration-color: #00af00\">2,843,041</span> (10.85 MB)\n",
       "</pre>\n"
      ],
      "text/plain": [
       "\u001b[1m Trainable params: \u001b[0m\u001b[38;5;34m2,843,041\u001b[0m (10.85 MB)\n"
      ]
     },
     "metadata": {},
     "output_type": "display_data"
    },
    {
     "data": {
      "text/html": [
       "<pre style=\"white-space:pre;overflow-x:auto;line-height:normal;font-family:Menlo,'DejaVu Sans Mono',consolas,'Courier New',monospace\"><span style=\"font-weight: bold\"> Non-trainable params: </span><span style=\"color: #00af00; text-decoration-color: #00af00\">0</span> (0.00 B)\n",
       "</pre>\n"
      ],
      "text/plain": [
       "\u001b[1m Non-trainable params: \u001b[0m\u001b[38;5;34m0\u001b[0m (0.00 B)\n"
      ]
     },
     "metadata": {},
     "output_type": "display_data"
    }
   ],
   "source": [
    "model.summary()"
   ]
  },
  {
   "cell_type": "code",
   "execution_count": 8,
   "id": "59b3dd2c",
   "metadata": {
    "execution": {
     "iopub.execute_input": "2025-07-22T16:34:26.209851Z",
     "iopub.status.busy": "2025-07-22T16:34:26.209277Z",
     "iopub.status.idle": "2025-07-22T16:34:26.222947Z",
     "shell.execute_reply": "2025-07-22T16:34:26.222466Z"
    },
    "papermill": {
     "duration": 0.01827,
     "end_time": "2025-07-22T16:34:26.224081",
     "exception": false,
     "start_time": "2025-07-22T16:34:26.205811",
     "status": "completed"
    },
    "tags": []
   },
   "outputs": [],
   "source": [
    "model.compile(loss=\"binary_crossentropy\", optimizer=\"adam\", metrics=[\"acc\"])"
   ]
  },
  {
   "cell_type": "code",
   "execution_count": 9,
   "id": "6c52da1e",
   "metadata": {
    "execution": {
     "iopub.execute_input": "2025-07-22T16:34:26.230750Z",
     "iopub.status.busy": "2025-07-22T16:34:26.230440Z",
     "iopub.status.idle": "2025-07-22T16:35:07.379148Z",
     "shell.execute_reply": "2025-07-22T16:35:07.378487Z"
    },
    "papermill": {
     "duration": 41.153879,
     "end_time": "2025-07-22T16:35:07.380956",
     "exception": false,
     "start_time": "2025-07-22T16:34:26.227077",
     "status": "completed"
    },
    "tags": []
   },
   "outputs": [
    {
     "name": "stdout",
     "output_type": "stream",
     "text": [
      "Epoch 1/10\n"
     ]
    },
    {
     "name": "stderr",
     "output_type": "stream",
     "text": [
      "I0000 00:00:1753202069.516694      63 cuda_dnn.cc:529] Loaded cuDNN version 90300\n"
     ]
    },
    {
     "name": "stdout",
     "output_type": "stream",
     "text": [
      "\u001b[1m625/625\u001b[0m \u001b[32m━━━━━━━━━━━━━━━━━━━━\u001b[0m\u001b[37m\u001b[0m \u001b[1m12s\u001b[0m 13ms/step - acc: 0.7118 - loss: 0.5329 - val_acc: 0.8652 - val_loss: 0.3291\n",
      "Epoch 2/10\n",
      "\u001b[1m625/625\u001b[0m \u001b[32m━━━━━━━━━━━━━━━━━━━━\u001b[0m\u001b[37m\u001b[0m \u001b[1m7s\u001b[0m 12ms/step - acc: 0.9239 - loss: 0.2037 - val_acc: 0.8730 - val_loss: 0.3064\n",
      "Epoch 3/10\n",
      "\u001b[1m625/625\u001b[0m \u001b[32m━━━━━━━━━━━━━━━━━━━━\u001b[0m\u001b[37m\u001b[0m \u001b[1m7s\u001b[0m 12ms/step - acc: 0.9676 - loss: 0.1018 - val_acc: 0.7880 - val_loss: 0.4301\n",
      "Epoch 4/10\n",
      "\u001b[1m625/625\u001b[0m \u001b[32m━━━━━━━━━━━━━━━━━━━━\u001b[0m\u001b[37m\u001b[0m \u001b[1m7s\u001b[0m 12ms/step - acc: 0.9682 - loss: 0.0938 - val_acc: 0.8572 - val_loss: 0.3919\n",
      "Epoch 5/10\n",
      "\u001b[1m625/625\u001b[0m \u001b[32m━━━━━━━━━━━━━━━━━━━━\u001b[0m\u001b[37m\u001b[0m \u001b[1m7s\u001b[0m 12ms/step - acc: 0.9846 - loss: 0.0472 - val_acc: 0.8468 - val_loss: 0.4108\n"
     ]
    }
   ],
   "source": [
    "early_stop = tf.keras.callbacks.EarlyStopping(monitor='val_loss', patience=3, restore_best_weights=True)\n",
    "\n",
    "history = model.fit(train_data, train_labels, epochs=10, validation_split=0.2, callbacks=[early_stop])"
   ]
  },
  {
   "cell_type": "code",
   "execution_count": 10,
   "id": "761d3977",
   "metadata": {
    "execution": {
     "iopub.execute_input": "2025-07-22T16:35:07.437773Z",
     "iopub.status.busy": "2025-07-22T16:35:07.437162Z",
     "iopub.status.idle": "2025-07-22T16:35:07.850405Z",
     "shell.execute_reply": "2025-07-22T16:35:07.849750Z"
    },
    "papermill": {
     "duration": 0.442166,
     "end_time": "2025-07-22T16:35:07.851644",
     "exception": false,
     "start_time": "2025-07-22T16:35:07.409478",
     "status": "completed"
    },
    "tags": []
   },
   "outputs": [
    {
     "data": {
      "image/png": "[encoded data removed]",
      "text/plain": [
       "<Figure size 640x480 with 1 Axes>"
      ]
     },
     "metadata": {},
     "output_type": "display_data"
    },
    {
     "data": {
      "image/png": "[encoded data removed]",
      "text/plain": [
       "<Figure size 640x480 with 1 Axes>"
      ]
     },
     "metadata": {},
     "output_type": "display_data"
    }
   ],
   "source": [
    "import matplotlib.pyplot as plt\n",
    "\n",
    "# Plot Loss\n",
    "plt.plot(history.history['loss'], label='Training Loss')\n",
    "plt.plot(history.history['val_loss'], label='Validation Loss')\n",
    "plt.title('Loss over Epochs')\n",
    "plt.xlabel('Epoch')\n",
    "plt.ylabel('Loss')\n",
    "plt.legend()\n",
    "plt.show()\n",
    "\n",
    "# Plot Accuracy\n",
    "plt.plot(history.history['acc'], label='Training Accuracy')\n",
    "plt.plot(history.history['val_acc'], label='Validation Accuracy')\n",
    "plt.title('Accuracy over Epochs')\n",
    "plt.xlabel('Epoch')\n",
    "plt.ylabel('Accuracy')\n",
    "plt.legend()\n",
    "plt.show()\n"
   ]
  },
  {
   "cell_type": "code",
   "execution_count": 11,
   "id": "5b88f125",
   "metadata": {
    "execution": {
     "iopub.execute_input": "2025-07-22T16:35:07.910170Z",
     "iopub.status.busy": "2025-07-22T16:35:07.909954Z",
     "iopub.status.idle": "2025-07-22T16:35:12.112199Z",
     "shell.execute_reply": "2025-07-22T16:35:12.111601Z"
    },
    "papermill": {
     "duration": 4.232081,
     "end_time": "2025-07-22T16:35:12.113307",
     "exception": false,
     "start_time": "2025-07-22T16:35:07.881226",
     "status": "completed"
    },
    "tags": []
   },
   "outputs": [
    {
     "name": "stdout",
     "output_type": "stream",
     "text": [
      "\u001b[1m782/782\u001b[0m \u001b[32m━━━━━━━━━━━━━━━━━━━━\u001b[0m\u001b[37m\u001b[0m \u001b[1m4s\u001b[0m 5ms/step - acc: 0.8669 - loss: 0.3201\n",
      "[0.3210742473602295, 0.867680013179779]\n"
     ]
    }
   ],
   "source": [
    "results = model.evaluate(test_data, test_labels)\n",
    "print(results)"
   ]
  },
  {
   "cell_type": "code",
   "execution_count": 12,
   "id": "7340de3d",
   "metadata": {
    "execution": {
     "iopub.execute_input": "2025-07-22T16:35:12.178176Z",
     "iopub.status.busy": "2025-07-22T16:35:12.177950Z",
     "iopub.status.idle": "2025-07-22T16:35:12.259691Z",
     "shell.execute_reply": "2025-07-22T16:35:12.259094Z"
    },
    "papermill": {
     "duration": 0.114957,
     "end_time": "2025-07-22T16:35:12.260872",
     "exception": false,
     "start_time": "2025-07-22T16:35:12.145915",
     "status": "completed"
    },
    "tags": []
   },
   "outputs": [],
   "source": [
    "model.save('/kaggle/working/my_model.h5')"
   ]
  }
 ],
 "metadata": {
  "kaggle": {
   "accelerator": "nvidiaTeslaT4",
   "dataSources": [],
   "dockerImageVersionId": 31090,
   "isGpuEnabled": true,
   "isInternetEnabled": true,
   "language": "python",
   "sourceType": "notebook"
  },
  "kernelspec": {
   "display_name": "Python 3",
   "language": "python",
   "name": "python3"
  },
  "language_info": {
   "codemirror_mode": {
    "name": "ipython",
    "version": 3
   },
   "file_extension": ".py",
   "mimetype": "text/x-python",
   "name": "python",
   "nbconvert_exporter": "python",
   "pygments_lexer": "ipython3",
   "version": "3.11.13"
  },
  "papermill": {
   "default_parameters": {},
   "duration": 75.280273,
   "end_time": "2025-07-22T16:35:15.196600",
   "environment_variables": {},
   "exception": null,
   "input_path": "__notebook__.ipynb",
   "output_path": "__notebook__.ipynb",
   "parameters": {},
   "start_time": "2025-07-22T16:33:59.916327",
   "version": "2.6.0"
  }
 },
 "nbformat": 4,
 "nbformat_minor": 5
}
